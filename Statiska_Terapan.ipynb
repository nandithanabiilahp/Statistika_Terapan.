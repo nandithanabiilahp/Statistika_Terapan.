{
  "nbformat": 4,
  "nbformat_minor": 0,
  "metadata": {
    "colab": {
      "provenance": [],
      "collapsed_sections": [],
      "include_colab_link": true
    },
    "kernelspec": {
      "name": "python3",
      "display_name": "Python 3"
    },
    "language_info": {
      "name": "python"
    }
  },
  "cells": [
    {
      "cell_type": "markdown",
      "metadata": {
        "id": "view-in-github",
        "colab_type": "text"
      },
      "source": [
        "<a href=\"https://colab.research.google.com/github/nandithanabiilahp/Statistika_Terapan./blob/main/Statiska_Terapan.ipynb\" target=\"_parent\"><img src=\"https://colab.research.google.com/assets/colab-badge.svg\" alt=\"Open In Colab\"/></a>"
      ]
    },
    {
      "cell_type": "code",
      "source": [
        "#Nama kelompok\n",
        "#Nanditha Nabiilah Putri (G1A021001)\n",
        "#Erin Handayani Azzahra (G1A021049)"
      ],
      "metadata": {
        "id": "hfpY6f_dLRDT"
      },
      "execution_count": null,
      "outputs": []
    },
    {
      "cell_type": "code",
      "execution_count": null,
      "metadata": {
        "id": "2KMKBYk1Ec2O"
      },
      "outputs": [],
      "source": [
        "import csv\n",
        "\n",
        "header = ['bulan','ipska','nilai_ekspor']\n",
        "data = [\n",
        "    ['01','DKI JKT','528537125'],\n",
        "    ['02','DKI JKT','438833825'],\n",
        "    ['03','DKI JKT','391246284'],\n",
        "    ['04','DKI JKT','1064346116'],\n",
        "    ['05','DKI JKT','357450522'],\n",
        "    ['06','DKI JKT','437256186'],\n",
        "    ['01','JAK-UT','223791762'],\n",
        "    ['02','JAK-UT','198552519'],\n",
        "    ['03','JAK-UT','151426616'],\n",
        "    ['04','JAK-UT','184098837'],\n",
        "    ['05','JAK-UT','178658153'],\n",
        "    ['06','JAK-UT','193668163'],\n",
        "    ['01','JAK-PUS','1171668529'],\n",
        "    ['02','JAK-PUS','690039894'],\n",
        "    ['03','JAK-PUS','373460440'],\n",
        "    ['04','JAK-PUS','283465835'],\n",
        "    ['05','JAK-PUS','217194883'],\n",
        "    ['06','JAK-PUS','260908198'],\n",
        "    ['01','JAK-BAR','841881488'],\n",
        "    ['02','JAK-BAR','539965684'],\n",
        "    ['03','JAK-BAR','601236734'],\n",
        "    ['04','JAK-BAR','404042691'],\n",
        "    ['05','JAK-BAR','638908076'],\n",
        "    ['06','JAK-BAR','496183798'],\n",
        "    ['01','JAK-SEL','473557639'],\n",
        "    ['02','JAK-SEL','281864007'],\n",
        "    ['03','JAK-SEL','301978236'],\n",
        "    ['04','JAK-SEL','422840320'],\n",
        "    ['05','JAK-SEL','491313665'],\n",
        "    ['06','JAK-SEL','436981350'],\n",
        "    ['01','JAK-TIM','301820481'],\n",
        "    ['02','JAK-TIM','627499844'],\n",
        "    ['03','JAK-TIM','617027310'],\n",
        "    ['04','JAK-TIM','535895885'],\n",
        "    ['05','JAK-TIM','868226764'],\n",
        "    ['06','JAK-TIM','517035069'],\n",
        "\n",
        "]\n",
        "\n",
        "with open('DataEksporProvinsiDKIJakarta.csv', 'w', encoding='UTF8', newline='') as f:\n",
        "    writer = csv.writer(f)\n",
        "\n",
        "    # write the header\n",
        "    writer.writerow(header)\n",
        "\n",
        "    # write multiple rows\n",
        "    writer.writerows(data)"
      ]
    },
    {
      "cell_type": "code",
      "source": [
        "import pandas as pan\n",
        "import numpy as num\n",
        "import statistics\n",
        "dataset = pan.read_csv('DataEksporProvinsiDKIJakarta.csv')\n",
        "dataset.head()"
      ],
      "metadata": {
        "colab": {
          "base_uri": "https://localhost:8080/",
          "height": 206
        },
        "id": "74cD2f_mKbI-",
        "outputId": "1fac5e68-4db4-4924-93c9-fbea31437093"
      },
      "execution_count": null,
      "outputs": [
        {
          "output_type": "execute_result",
          "data": {
            "text/plain": [
              "   bulan    ipska  nilai_ekspor\n",
              "0      1  DKI JKT     528537125\n",
              "1      2  DKI JKT     438833825\n",
              "2      3  DKI JKT     391246284\n",
              "3      4  DKI JKT    1064346116\n",
              "4      5  DKI JKT     357450522"
            ],
            "text/html": [
              "\n",
              "  <div id=\"df-0cbbade2-b283-4e4c-b82e-54fe46b6c117\">\n",
              "    <div class=\"colab-df-container\">\n",
              "      <div>\n",
              "<style scoped>\n",
              "    .dataframe tbody tr th:only-of-type {\n",
              "        vertical-align: middle;\n",
              "    }\n",
              "\n",
              "    .dataframe tbody tr th {\n",
              "        vertical-align: top;\n",
              "    }\n",
              "\n",
              "    .dataframe thead th {\n",
              "        text-align: right;\n",
              "    }\n",
              "</style>\n",
              "<table border=\"1\" class=\"dataframe\">\n",
              "  <thead>\n",
              "    <tr style=\"text-align: right;\">\n",
              "      <th></th>\n",
              "      <th>bulan</th>\n",
              "      <th>ipska</th>\n",
              "      <th>nilai_ekspor</th>\n",
              "    </tr>\n",
              "  </thead>\n",
              "  <tbody>\n",
              "    <tr>\n",
              "      <th>0</th>\n",
              "      <td>1</td>\n",
              "      <td>DKI JKT</td>\n",
              "      <td>528537125</td>\n",
              "    </tr>\n",
              "    <tr>\n",
              "      <th>1</th>\n",
              "      <td>2</td>\n",
              "      <td>DKI JKT</td>\n",
              "      <td>438833825</td>\n",
              "    </tr>\n",
              "    <tr>\n",
              "      <th>2</th>\n",
              "      <td>3</td>\n",
              "      <td>DKI JKT</td>\n",
              "      <td>391246284</td>\n",
              "    </tr>\n",
              "    <tr>\n",
              "      <th>3</th>\n",
              "      <td>4</td>\n",
              "      <td>DKI JKT</td>\n",
              "      <td>1064346116</td>\n",
              "    </tr>\n",
              "    <tr>\n",
              "      <th>4</th>\n",
              "      <td>5</td>\n",
              "      <td>DKI JKT</td>\n",
              "      <td>357450522</td>\n",
              "    </tr>\n",
              "  </tbody>\n",
              "</table>\n",
              "</div>\n",
              "      <button class=\"colab-df-convert\" onclick=\"convertToInteractive('df-0cbbade2-b283-4e4c-b82e-54fe46b6c117')\"\n",
              "              title=\"Convert this dataframe to an interactive table.\"\n",
              "              style=\"display:none;\">\n",
              "        \n",
              "  <svg xmlns=\"http://www.w3.org/2000/svg\" height=\"24px\"viewBox=\"0 0 24 24\"\n",
              "       width=\"24px\">\n",
              "    <path d=\"M0 0h24v24H0V0z\" fill=\"none\"/>\n",
              "    <path d=\"M18.56 5.44l.94 2.06.94-2.06 2.06-.94-2.06-.94-.94-2.06-.94 2.06-2.06.94zm-11 1L8.5 8.5l.94-2.06 2.06-.94-2.06-.94L8.5 2.5l-.94 2.06-2.06.94zm10 10l.94 2.06.94-2.06 2.06-.94-2.06-.94-.94-2.06-.94 2.06-2.06.94z\"/><path d=\"M17.41 7.96l-1.37-1.37c-.4-.4-.92-.59-1.43-.59-.52 0-1.04.2-1.43.59L10.3 9.45l-7.72 7.72c-.78.78-.78 2.05 0 2.83L4 21.41c.39.39.9.59 1.41.59.51 0 1.02-.2 1.41-.59l7.78-7.78 2.81-2.81c.8-.78.8-2.07 0-2.86zM5.41 20L4 18.59l7.72-7.72 1.47 1.35L5.41 20z\"/>\n",
              "  </svg>\n",
              "      </button>\n",
              "      \n",
              "  <style>\n",
              "    .colab-df-container {\n",
              "      display:flex;\n",
              "      flex-wrap:wrap;\n",
              "      gap: 12px;\n",
              "    }\n",
              "\n",
              "    .colab-df-convert {\n",
              "      background-color: #E8F0FE;\n",
              "      border: none;\n",
              "      border-radius: 50%;\n",
              "      cursor: pointer;\n",
              "      display: none;\n",
              "      fill: #1967D2;\n",
              "      height: 32px;\n",
              "      padding: 0 0 0 0;\n",
              "      width: 32px;\n",
              "    }\n",
              "\n",
              "    .colab-df-convert:hover {\n",
              "      background-color: #E2EBFA;\n",
              "      box-shadow: 0px 1px 2px rgba(60, 64, 67, 0.3), 0px 1px 3px 1px rgba(60, 64, 67, 0.15);\n",
              "      fill: #174EA6;\n",
              "    }\n",
              "\n",
              "    [theme=dark] .colab-df-convert {\n",
              "      background-color: #3B4455;\n",
              "      fill: #D2E3FC;\n",
              "    }\n",
              "\n",
              "    [theme=dark] .colab-df-convert:hover {\n",
              "      background-color: #434B5C;\n",
              "      box-shadow: 0px 1px 3px 1px rgba(0, 0, 0, 0.15);\n",
              "      filter: drop-shadow(0px 1px 2px rgba(0, 0, 0, 0.3));\n",
              "      fill: #FFFFFF;\n",
              "    }\n",
              "  </style>\n",
              "\n",
              "      <script>\n",
              "        const buttonEl =\n",
              "          document.querySelector('#df-0cbbade2-b283-4e4c-b82e-54fe46b6c117 button.colab-df-convert');\n",
              "        buttonEl.style.display =\n",
              "          google.colab.kernel.accessAllowed ? 'block' : 'none';\n",
              "\n",
              "        async function convertToInteractive(key) {\n",
              "          const element = document.querySelector('#df-0cbbade2-b283-4e4c-b82e-54fe46b6c117');\n",
              "          const dataTable =\n",
              "            await google.colab.kernel.invokeFunction('convertToInteractive',\n",
              "                                                     [key], {});\n",
              "          if (!dataTable) return;\n",
              "\n",
              "          const docLinkHtml = 'Like what you see? Visit the ' +\n",
              "            '<a target=\"_blank\" href=https://colab.research.google.com/notebooks/data_table.ipynb>data table notebook</a>'\n",
              "            + ' to learn more about interactive tables.';\n",
              "          element.innerHTML = '';\n",
              "          dataTable['output_type'] = 'display_data';\n",
              "          await google.colab.output.renderOutput(dataTable, element);\n",
              "          const docLink = document.createElement('div');\n",
              "          docLink.innerHTML = docLinkHtml;\n",
              "          element.appendChild(docLink);\n",
              "        }\n",
              "      </script>\n",
              "    </div>\n",
              "  </div>\n",
              "  "
            ]
          },
          "metadata": {},
          "execution_count": 4
        }
      ]
    },
    {
      "cell_type": "code",
      "source": [
        "dataset.shape"
      ],
      "metadata": {
        "colab": {
          "base_uri": "https://localhost:8080/"
        },
        "id": "NumHSJtkKvW3",
        "outputId": "3d0d76e8-3a07-48da-901f-e71a3e72497f"
      },
      "execution_count": null,
      "outputs": [
        {
          "output_type": "execute_result",
          "data": {
            "text/plain": [
              "(36, 3)"
            ]
          },
          "metadata": {},
          "execution_count": 5
        }
      ]
    },
    {
      "cell_type": "code",
      "source": [
        "print(dataset.isnull().sum())"
      ],
      "metadata": {
        "colab": {
          "base_uri": "https://localhost:8080/"
        },
        "id": "8yPt1qH7K89L",
        "outputId": "dce64489-522d-412d-f325-046bfb5b8e15"
      },
      "execution_count": null,
      "outputs": [
        {
          "output_type": "stream",
          "name": "stdout",
          "text": [
            "bulan           0\n",
            "ipska           0\n",
            "nilai_ekspor    0\n",
            "dtype: int64\n"
          ]
        }
      ]
    },
    {
      "cell_type": "code",
      "source": [
        "dataset.dropna(inplace=True)\n",
        "print(dataset.isnull().sum())"
      ],
      "metadata": {
        "colab": {
          "base_uri": "https://localhost:8080/"
        },
        "id": "c1frLCC1MvY2",
        "outputId": "d17c8b76-c9a7-4abe-a248-7ebaffea8c6a"
      },
      "execution_count": null,
      "outputs": [
        {
          "output_type": "stream",
          "name": "stdout",
          "text": [
            "bulan           0\n",
            "ipska           0\n",
            "nilai_ekspor    0\n",
            "dtype: int64\n"
          ]
        }
      ]
    },
    {
      "cell_type": "code",
      "source": [
        "dataset['nilai_ekspor'] = dataset['nilai_ekspor'].replace(dataset['nilai_ekspor'].mean())\n",
        "print(dataset['nilai_ekspor'][:15])"
      ],
      "metadata": {
        "colab": {
          "base_uri": "https://localhost:8080/"
        },
        "id": "7IPjw0ThNHvJ",
        "outputId": "50143993-a386-4684-dcce-f14d440bfc33"
      },
      "execution_count": null,
      "outputs": [
        {
          "output_type": "stream",
          "name": "stdout",
          "text": [
            "0      528537125\n",
            "1      438833825\n",
            "2      391246284\n",
            "3     1064346116\n",
            "4      357450522\n",
            "5      437256186\n",
            "6      223791762\n",
            "7      198552519\n",
            "8      151426616\n",
            "9      184098837\n",
            "10     178658153\n",
            "11     193668163\n",
            "12    1171668529\n",
            "13     690039894\n",
            "14     373460440\n",
            "Name: nilai_ekspor, dtype: int64\n"
          ]
        }
      ]
    },
    {
      "cell_type": "code",
      "source": [
        "dataset['nilai_ekspor'] = dataset['nilai_ekspor'].interpolate(method='linear',limit_direction='forward', axis=0)\n",
        "dataset.isnull().sum()"
      ],
      "metadata": {
        "colab": {
          "base_uri": "https://localhost:8080/"
        },
        "id": "ldIwW7whPahH",
        "outputId": "de64cf72-cf6a-46ba-cf4c-820b1c18b82f"
      },
      "execution_count": null,
      "outputs": [
        {
          "output_type": "execute_result",
          "data": {
            "text/plain": [
              "bulan           0\n",
              "ipska           0\n",
              "nilai_ekspor    0\n",
              "dtype: int64"
            ]
          },
          "metadata": {},
          "execution_count": 20
        }
      ]
    },
    {
      "cell_type": "code",
      "source": [
        "dataset['nilai_ekspor'][:15]"
      ],
      "metadata": {
        "colab": {
          "base_uri": "https://localhost:8080/"
        },
        "id": "zjzyygmEQDZX",
        "outputId": "7032d3d1-5afc-4aed-bd4e-7c1f64d925ed"
      },
      "execution_count": null,
      "outputs": [
        {
          "output_type": "execute_result",
          "data": {
            "text/plain": [
              "0      528537125\n",
              "1      438833825\n",
              "2      391246284\n",
              "3     1064346116\n",
              "4      357450522\n",
              "5      437256186\n",
              "6      223791762\n",
              "7      198552519\n",
              "8      151426616\n",
              "9      184098837\n",
              "10     178658153\n",
              "11     193668163\n",
              "12    1171668529\n",
              "13     690039894\n",
              "14     373460440\n",
              "Name: nilai_ekspor, dtype: int64"
            ]
          },
          "metadata": {},
          "execution_count": 21
        }
      ]
    },
    {
      "cell_type": "code",
      "source": [
        "import matplotlib.pyplot as plt\n",
        "\n",
        "sample= [528537125,438833825,391246284,1064346116,357450522,638908076,496183798,473557639,281864007,301978236,422840320]\n",
        "plt.boxplot(sample, vert=False)\n",
        "plt.title(\"Detecting outliers using Boxplot\")\n",
        "plt.xlabel('Sample')\n",
        "plt.show()"
      ],
      "metadata": {
        "colab": {
          "base_uri": "https://localhost:8080/",
          "height": 295
        },
        "id": "swe4q3RTQPOc",
        "outputId": "4bdae5e6-a4ee-4704-acae-7162c8efdd21"
      },
      "execution_count": null,
      "outputs": [
        {
          "output_type": "display_data",
          "data": {
            "text/plain": [
              "<Figure size 432x288 with 1 Axes>"
            ],
            "image/png": "[encoded data removed]"
          },
          "metadata": {
            "needs_background": "light"
          }
        }
      ]
    },
    {
      "cell_type": "code",
      "source": [
        "import numpy as np\n",
        "outliers = []\n",
        "def detect_outliers_zscore(data):\n",
        "    thres = 3\n",
        "    median = np.median(data)\n",
        "    std = np.std(data)\n",
        "    # print(median, std)\n",
        "    for i in data:\n",
        "        z_score = (i-median)/std\n",
        "        if (np.abs(z_score) > thres):\n",
        "            outliers.append(i)\n",
        "    return outliers# Driver code\n",
        "sample_outliers = detect_outliers_zscore(sample)\n",
        "print(\"Outliers from Z-scores method: \", sample_outliers)"
      ],
      "metadata": {
        "colab": {
          "base_uri": "https://localhost:8080/"
        },
        "id": "hmQzp1qtR2Dz",
        "outputId": "5432287a-4094-46d5-f266-068b4cf25b55"
      },
      "execution_count": null,
      "outputs": [
        {
          "output_type": "stream",
          "name": "stdout",
          "text": [
            "Outliers from Z-scores method:  [1064346116]\n"
          ]
        }
      ]
    },
    {
      "cell_type": "code",
      "source": [
        "outliers = []\n",
        "def detect_outliers_iqr(data):\n",
        "    data = sorted(data)\n",
        "    q1 = np.percentile(data, 25)\n",
        "    q3 = np.percentile(data, 75)\n",
        "    # print(q1, q3)\n",
        "    IQR = q3-q1\n",
        "    lwr_bound = q1-(1.5*IQR)\n",
        "    upr_bound = q3+(1.5*IQR)\n",
        "    # print(lwr_bound, upr_bound)\n",
        "    for i in data: \n",
        "        if (i<lwr_bound or i>upr_bound):\n",
        "            outliers.append(i)\n",
        "    return outliers# Driver code\n",
        "sample_outliers = detect_outliers_iqr(sample)\n",
        "print(\"Outliers from IQR method: \", sample_outliers)"
      ],
      "metadata": {
        "colab": {
          "base_uri": "https://localhost:8080/"
        },
        "id": "ytWKpXoKSRiO",
        "outputId": "c95cad3f-eb0a-4e28-9496-ee06e6d89bb8"
      },
      "execution_count": null,
      "outputs": [
        {
          "output_type": "stream",
          "name": "stdout",
          "text": [
            "Outliers from IQR method:  [1064346116]\n"
          ]
        }
      ]
    },
    {
      "cell_type": "code",
      "source": [
        "# Trimming\n",
        "for i in sample_outliers:\n",
        "    a = sample\n",
        "    a.remove(i)\n",
        "print(a)\n",
        "# print(len(sample), len(a))"
      ],
      "metadata": {
        "colab": {
          "base_uri": "https://localhost:8080/"
        },
        "id": "7lrvanq3SXlC",
        "outputId": "d06f3be7-8e8b-4085-a5ba-0a8ac9da9a55"
      },
      "execution_count": null,
      "outputs": [
        {
          "output_type": "stream",
          "name": "stdout",
          "text": [
            "[528537125, 438833825, 391246284, 357450522, 638908076, 496183798, 473557639, 281864007, 301978236, 422840320]\n"
          ]
        }
      ]
    },
    {
      "cell_type": "code",
      "source": [
        "median = np.median(sample)# Replace with median\n",
        "for i in sample_outliers:\n",
        "    c = np.where(sample==i, 14,sample)\n",
        "print(\"Sample: \", sample)\n",
        "print(\"New array: \",c)\n",
        "# print(x.dtype)"
      ],
      "metadata": {
        "colab": {
          "base_uri": "https://localhost:8080/"
        },
        "id": "Wj0gGBKiSnp_",
        "outputId": "e45dccfc-bacd-49ad-dd5a-bbff2523eaef"
      },
      "execution_count": null,
      "outputs": [
        {
          "output_type": "stream",
          "name": "stdout",
          "text": [
            "Sample:  [528537125, 438833825, 391246284, 357450522, 638908076, 496183798, 473557639, 281864007, 301978236, 422840320]\n",
            "New array:  [528537125 438833825 391246284 357450522 638908076 496183798 473557639\n",
            " 281864007 301978236 422840320]\n"
          ]
        }
      ]
    },
    {
      "cell_type": "code",
      "source": [
        "plt.boxplot(c, vert=False)\n",
        "plt.title(\"Boxplot of the sample after treating the outliers\")\n",
        "plt.xlabel(\"Sample\")"
      ],
      "metadata": {
        "colab": {
          "base_uri": "https://localhost:8080/",
          "height": 313
        },
        "id": "hd615CHPTR4w",
        "outputId": "1346bd96-8ba5-490b-b16a-d23679551613"
      },
      "execution_count": null,
      "outputs": [
        {
          "output_type": "execute_result",
          "data": {
            "text/plain": [
              "Text(0.5, 0, 'Sample')"
            ]
          },
          "metadata": {},
          "execution_count": 27
        },
        {
          "output_type": "display_data",
          "data": {
            "text/plain": [
              "<Figure size 432x288 with 1 Axes>"
            ],
            "image/png": "[encoded data removed]"
          },
          "metadata": {
            "needs_background": "light"
          }
        }
      ]
    },
    {
      "cell_type": "code",
      "source": [
        "# Computing 10th, 90th percentiles and replacing the outliers\n",
        "tenth_percentile = np.percentile(sample, 10)\n",
        "ninetieth_percentile = np.percentile(sample, 90)\n",
        "print(tenth_percentile, ninetieth_percentile)\n",
        "b = np.where(sample<tenth_percentile, tenth_percentile, sample)\n",
        "b = np.where(b>ninetieth_percentile, ninetieth_percentile, b)\n",
        "# print(\"Sample:\", sample)\n",
        "print(\"New array:\",b)"
      ],
      "metadata": {
        "colab": {
          "base_uri": "https://localhost:8080/"
        },
        "id": "ImMA3IQiTV72",
        "outputId": "2228f6e7-176f-421a-f82e-1b8e4a3d5f10"
      },
      "execution_count": null,
      "outputs": [
        {
          "output_type": "stream",
          "name": "stdout",
          "text": [
            "299966813.1 539574220.0999999\n",
            "New array: [5.28537125e+08 4.38833825e+08 3.91246284e+08 3.57450522e+08\n",
            " 5.39574220e+08 4.96183798e+08 4.73557639e+08 2.99966813e+08\n",
            " 3.01978236e+08 4.22840320e+08]\n"
          ]
        }
      ]
    }
  ]
}